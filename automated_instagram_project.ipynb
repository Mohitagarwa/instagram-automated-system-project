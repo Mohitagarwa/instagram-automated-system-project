{
 "cells": [
  {
   "cell_type": "markdown",
   "metadata": {},
   "source": [
    "<h1> Instagram Automated Login system </h1>"
   ]
  },
  {
   "cell_type": "code",
   "execution_count": 40,
   "metadata": {},
   "outputs": [],
   "source": [
    "#First import All the libraries\n",
    "#selenium driver used \n",
    "#Chrome web driver should be downloaded -please check your chrome browser version and download the desired one\n",
    "\n",
    "from selenium import webdriver\n",
    "from selenium.webdriver.common.keys import Keys\n",
    "import time\n",
    "\n",
    "#Chrome web driver path on local system\n",
    "driver = webdriver.Chrome(executable_path=r\"C:\\Users\\mohit\\Downloads\\chromedriver_win32\\chromedriver.exe\")\n",
    "# Website link of instagram \n",
    "driver.get(\"https://www.instagram.com/accounts/login/\")\n",
    "#time gap\n",
    "time.sleep(2) \n",
    "#you can enter right username and password to check it's working correctly or not\n",
    "USERNAME=\"3847474\"\n",
    "PASSWORD=\"dsjfhjdf\"\n",
    "#user path on the website - check this by inspecting the website and copy full path\n",
    "#alternate one to use directly name rather than the full path\n",
    "user=driver.find_element_by_xpath('/html/body/div[1]/section/main/div/div/div[1]/div/form/div/div[1]/div/label/input')\n",
    "#same for password\n",
    "passw=driver.find_element_by_name(\"password\")\n",
    "#send all the information to the website \n",
    "user.send_keys(username)\n",
    "passw.send_keys(password)\n",
    "#press enter \n",
    "passw.send_keys(Keys.ENTER)\n"
   ]
  },
  {
   "cell_type": "code",
   "execution_count": null,
   "metadata": {},
   "outputs": [],
   "source": []
  }
 ],
 "metadata": {
  "kernelspec": {
   "display_name": "Python 3",
   "language": "python",
   "name": "python3"
  },
  "language_info": {
   "codemirror_mode": {
    "name": "ipython",
    "version": 3
   },
   "file_extension": ".py",
   "mimetype": "text/x-python",
   "name": "python",
   "nbconvert_exporter": "python",
   "pygments_lexer": "ipython3",
   "version": "3.8.5"
  }
 },
 "nbformat": 4,
 "nbformat_minor": 4
}
